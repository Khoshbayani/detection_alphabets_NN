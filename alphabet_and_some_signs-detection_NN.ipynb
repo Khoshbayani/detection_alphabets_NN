{
 "cells": [
  {
   "cell_type": "code",
   "execution_count": 1,
   "id": "59e2f359",
   "metadata": {
    "ExecuteTime": {
     "end_time": "2023-11-11T19:49:46.816218300Z",
     "start_time": "2023-11-11T19:49:42.347067Z"
    },
    "collapsed": false,
    "execution": {
     "iopub.execute_input": "2023-11-15T18:45:35.291405Z",
     "iopub.status.busy": "2023-11-15T18:45:35.291113Z",
     "iopub.status.idle": "2023-11-15T18:45:47.464652Z",
     "shell.execute_reply": "2023-11-15T18:45:47.463940Z"
    },
    "jupyter": {
     "outputs_hidden": false
    },
    "papermill": {
     "duration": 12.185501,
     "end_time": "2023-11-15T18:45:47.466899",
     "exception": false,
     "start_time": "2023-11-15T18:45:35.281398",
     "status": "completed"
    },
    "tags": []
   },
   "outputs": [
    {
     "name": "stderr",
     "output_type": "stream",
     "text": [
      "/opt/conda/lib/python3.10/site-packages/scipy/__init__.py:146: UserWarning: A NumPy version >=1.16.5 and <1.23.0 is required for this version of SciPy (detected version 1.24.3\n",
      "  warnings.warn(f\"A NumPy version >={np_minversion} and <{np_maxversion}\"\n"
     ]
    }
   ],
   "source": [
    "import pandas as pd\n",
    "import numpy as np\n",
    "import tensorflow as tf\n",
    "from sklearn.preprocessing import OneHotEncoder"
   ]
  },
  {
   "cell_type": "code",
   "execution_count": 2,
   "id": "35c7df65",
   "metadata": {
    "ExecuteTime": {
     "end_time": "2023-11-11T19:50:05.755202800Z",
     "start_time": "2023-11-11T19:49:46.819019700Z"
    },
    "collapsed": false,
    "execution": {
     "iopub.execute_input": "2023-11-15T18:45:47.485323Z",
     "iopub.status.busy": "2023-11-15T18:45:47.484797Z",
     "iopub.status.idle": "2023-11-15T18:46:23.577868Z",
     "shell.execute_reply": "2023-11-15T18:46:23.576844Z"
    },
    "jupyter": {
     "outputs_hidden": false
    },
    "papermill": {
     "duration": 36.104671,
     "end_time": "2023-11-15T18:46:23.580330",
     "exception": false,
     "start_time": "2023-11-15T18:45:47.475659",
     "status": "completed"
    },
    "tags": []
   },
   "outputs": [],
   "source": [
    "data = pd.read_csv(\"/kaggle/input/tmnist-alphabet-94-characters/94_character_TMNIST.csv\")"
   ]
  },
  {
   "cell_type": "code",
   "execution_count": 3,
   "id": "3c30b5aa",
   "metadata": {
    "ExecuteTime": {
     "end_time": "2023-11-11T19:50:05.797755800Z",
     "start_time": "2023-11-11T19:50:05.765730200Z"
    },
    "collapsed": false,
    "execution": {
     "iopub.execute_input": "2023-11-15T18:46:23.598940Z",
     "iopub.status.busy": "2023-11-15T18:46:23.598235Z",
     "iopub.status.idle": "2023-11-15T18:46:23.641953Z",
     "shell.execute_reply": "2023-11-15T18:46:23.641115Z"
    },
    "jupyter": {
     "outputs_hidden": false
    },
    "papermill": {
     "duration": 0.054969,
     "end_time": "2023-11-15T18:46:23.643848",
     "exception": false,
     "start_time": "2023-11-15T18:46:23.588879",
     "status": "completed"
    },
    "tags": []
   },
   "outputs": [
    {
     "data": {
      "text/html": [
       "<div>\n",
       "<style scoped>\n",
       "    .dataframe tbody tr th:only-of-type {\n",
       "        vertical-align: middle;\n",
       "    }\n",
       "\n",
       "    .dataframe tbody tr th {\n",
       "        vertical-align: top;\n",
       "    }\n",
       "\n",
       "    .dataframe thead th {\n",
       "        text-align: right;\n",
       "    }\n",
       "</style>\n",
       "<table border=\"1\" class=\"dataframe\">\n",
       "  <thead>\n",
       "    <tr style=\"text-align: right;\">\n",
       "      <th></th>\n",
       "      <th>names</th>\n",
       "      <th>labels</th>\n",
       "      <th>1</th>\n",
       "      <th>2</th>\n",
       "      <th>3</th>\n",
       "      <th>4</th>\n",
       "      <th>5</th>\n",
       "      <th>6</th>\n",
       "      <th>7</th>\n",
       "      <th>8</th>\n",
       "      <th>...</th>\n",
       "      <th>775</th>\n",
       "      <th>776</th>\n",
       "      <th>777</th>\n",
       "      <th>778</th>\n",
       "      <th>779</th>\n",
       "      <th>780</th>\n",
       "      <th>781</th>\n",
       "      <th>782</th>\n",
       "      <th>783</th>\n",
       "      <th>784</th>\n",
       "    </tr>\n",
       "  </thead>\n",
       "  <tbody>\n",
       "    <tr>\n",
       "      <th>0</th>\n",
       "      <td>Salsa-Regular</td>\n",
       "      <td>6</td>\n",
       "      <td>0.0</td>\n",
       "      <td>0.0</td>\n",
       "      <td>0.0</td>\n",
       "      <td>0.0</td>\n",
       "      <td>0.0</td>\n",
       "      <td>0.0</td>\n",
       "      <td>0.0</td>\n",
       "      <td>0.0</td>\n",
       "      <td>...</td>\n",
       "      <td>0.0</td>\n",
       "      <td>0.0</td>\n",
       "      <td>0.0</td>\n",
       "      <td>0.0</td>\n",
       "      <td>0.0</td>\n",
       "      <td>0.0</td>\n",
       "      <td>0.0</td>\n",
       "      <td>0.0</td>\n",
       "      <td>0.0</td>\n",
       "      <td>0.0</td>\n",
       "    </tr>\n",
       "    <tr>\n",
       "      <th>1</th>\n",
       "      <td>MouseMemoirs-Regular</td>\n",
       "      <td>D</td>\n",
       "      <td>0.0</td>\n",
       "      <td>0.0</td>\n",
       "      <td>0.0</td>\n",
       "      <td>0.0</td>\n",
       "      <td>0.0</td>\n",
       "      <td>0.0</td>\n",
       "      <td>0.0</td>\n",
       "      <td>0.0</td>\n",
       "      <td>...</td>\n",
       "      <td>0.0</td>\n",
       "      <td>0.0</td>\n",
       "      <td>0.0</td>\n",
       "      <td>0.0</td>\n",
       "      <td>0.0</td>\n",
       "      <td>0.0</td>\n",
       "      <td>0.0</td>\n",
       "      <td>0.0</td>\n",
       "      <td>0.0</td>\n",
       "      <td>0.0</td>\n",
       "    </tr>\n",
       "    <tr>\n",
       "      <th>2</th>\n",
       "      <td>Creepster-Regular</td>\n",
       "      <td>f</td>\n",
       "      <td>0.0</td>\n",
       "      <td>0.0</td>\n",
       "      <td>0.0</td>\n",
       "      <td>0.0</td>\n",
       "      <td>0.0</td>\n",
       "      <td>0.0</td>\n",
       "      <td>0.0</td>\n",
       "      <td>0.0</td>\n",
       "      <td>...</td>\n",
       "      <td>0.0</td>\n",
       "      <td>0.0</td>\n",
       "      <td>0.0</td>\n",
       "      <td>0.0</td>\n",
       "      <td>0.0</td>\n",
       "      <td>0.0</td>\n",
       "      <td>0.0</td>\n",
       "      <td>0.0</td>\n",
       "      <td>0.0</td>\n",
       "      <td>0.0</td>\n",
       "    </tr>\n",
       "    <tr>\n",
       "      <th>3</th>\n",
       "      <td>SeoulNamsan-Light</td>\n",
       "      <td>/</td>\n",
       "      <td>0.0</td>\n",
       "      <td>0.0</td>\n",
       "      <td>0.0</td>\n",
       "      <td>0.0</td>\n",
       "      <td>0.0</td>\n",
       "      <td>0.0</td>\n",
       "      <td>0.0</td>\n",
       "      <td>0.0</td>\n",
       "      <td>...</td>\n",
       "      <td>0.0</td>\n",
       "      <td>0.0</td>\n",
       "      <td>0.0</td>\n",
       "      <td>0.0</td>\n",
       "      <td>0.0</td>\n",
       "      <td>0.0</td>\n",
       "      <td>0.0</td>\n",
       "      <td>0.0</td>\n",
       "      <td>0.0</td>\n",
       "      <td>0.0</td>\n",
       "    </tr>\n",
       "    <tr>\n",
       "      <th>4</th>\n",
       "      <td>HachiMaruPop-Regular</td>\n",
       "      <td>F</td>\n",
       "      <td>0.0</td>\n",
       "      <td>0.0</td>\n",
       "      <td>0.0</td>\n",
       "      <td>0.0</td>\n",
       "      <td>0.0</td>\n",
       "      <td>0.0</td>\n",
       "      <td>0.0</td>\n",
       "      <td>0.0</td>\n",
       "      <td>...</td>\n",
       "      <td>0.0</td>\n",
       "      <td>0.0</td>\n",
       "      <td>0.0</td>\n",
       "      <td>0.0</td>\n",
       "      <td>0.0</td>\n",
       "      <td>0.0</td>\n",
       "      <td>0.0</td>\n",
       "      <td>0.0</td>\n",
       "      <td>0.0</td>\n",
       "      <td>0.0</td>\n",
       "    </tr>\n",
       "  </tbody>\n",
       "</table>\n",
       "<p>5 rows × 786 columns</p>\n",
       "</div>"
      ],
      "text/plain": [
       "                  names labels    1    2    3    4    5    6    7    8  ...  \\\n",
       "0         Salsa-Regular      6  0.0  0.0  0.0  0.0  0.0  0.0  0.0  0.0  ...   \n",
       "1  MouseMemoirs-Regular      D  0.0  0.0  0.0  0.0  0.0  0.0  0.0  0.0  ...   \n",
       "2     Creepster-Regular      f  0.0  0.0  0.0  0.0  0.0  0.0  0.0  0.0  ...   \n",
       "3     SeoulNamsan-Light      /  0.0  0.0  0.0  0.0  0.0  0.0  0.0  0.0  ...   \n",
       "4  HachiMaruPop-Regular      F  0.0  0.0  0.0  0.0  0.0  0.0  0.0  0.0  ...   \n",
       "\n",
       "   775  776  777  778  779  780  781  782  783  784  \n",
       "0  0.0  0.0  0.0  0.0  0.0  0.0  0.0  0.0  0.0  0.0  \n",
       "1  0.0  0.0  0.0  0.0  0.0  0.0  0.0  0.0  0.0  0.0  \n",
       "2  0.0  0.0  0.0  0.0  0.0  0.0  0.0  0.0  0.0  0.0  \n",
       "3  0.0  0.0  0.0  0.0  0.0  0.0  0.0  0.0  0.0  0.0  \n",
       "4  0.0  0.0  0.0  0.0  0.0  0.0  0.0  0.0  0.0  0.0  \n",
       "\n",
       "[5 rows x 786 columns]"
      ]
     },
     "execution_count": 3,
     "metadata": {},
     "output_type": "execute_result"
    }
   ],
   "source": [
    "data.head()"
   ]
  },
  {
   "cell_type": "code",
   "execution_count": 4,
   "id": "66404bad",
   "metadata": {
    "ExecuteTime": {
     "end_time": "2023-11-11T19:50:05.813242300Z",
     "start_time": "2023-11-11T19:50:05.792271800Z"
    },
    "collapsed": false,
    "execution": {
     "iopub.execute_input": "2023-11-15T18:46:23.662291Z",
     "iopub.status.busy": "2023-11-15T18:46:23.661993Z",
     "iopub.status.idle": "2023-11-15T18:46:23.667342Z",
     "shell.execute_reply": "2023-11-15T18:46:23.666522Z"
    },
    "jupyter": {
     "outputs_hidden": false
    },
    "papermill": {
     "duration": 0.01678,
     "end_time": "2023-11-15T18:46:23.669273",
     "exception": false,
     "start_time": "2023-11-15T18:46:23.652493",
     "status": "completed"
    },
    "tags": []
   },
   "outputs": [
    {
     "data": {
      "text/plain": [
       "(274093, 786)"
      ]
     },
     "execution_count": 4,
     "metadata": {},
     "output_type": "execute_result"
    }
   ],
   "source": [
    "data.shape"
   ]
  },
  {
   "cell_type": "code",
   "execution_count": 5,
   "id": "bdd23f1f",
   "metadata": {
    "ExecuteTime": {
     "end_time": "2023-11-11T19:50:05.814243100Z",
     "start_time": "2023-11-11T19:50:05.800740300Z"
    },
    "collapsed": false,
    "execution": {
     "iopub.execute_input": "2023-11-15T18:46:23.687973Z",
     "iopub.status.busy": "2023-11-15T18:46:23.687355Z",
     "iopub.status.idle": "2023-11-15T18:46:23.693792Z",
     "shell.execute_reply": "2023-11-15T18:46:23.692969Z"
    },
    "jupyter": {
     "outputs_hidden": false
    },
    "papermill": {
     "duration": 0.017722,
     "end_time": "2023-11-15T18:46:23.695856",
     "exception": false,
     "start_time": "2023-11-15T18:46:23.678134",
     "status": "completed"
    },
    "tags": []
   },
   "outputs": [
    {
     "data": {
      "text/plain": [
       "Index(['names', 'labels', '1', '2', '3', '4', '5', '6', '7', '8',\n",
       "       ...\n",
       "       '775', '776', '777', '778', '779', '780', '781', '782', '783', '784'],\n",
       "      dtype='object', length=786)"
      ]
     },
     "execution_count": 5,
     "metadata": {},
     "output_type": "execute_result"
    }
   ],
   "source": [
    "data.columns"
   ]
  },
  {
   "cell_type": "code",
   "execution_count": 6,
   "id": "94cb01a4",
   "metadata": {
    "ExecuteTime": {
     "end_time": "2023-11-11T19:50:06.203640200Z",
     "start_time": "2023-11-11T19:50:05.807248800Z"
    },
    "collapsed": false,
    "execution": {
     "iopub.execute_input": "2023-11-15T18:46:23.714668Z",
     "iopub.status.busy": "2023-11-15T18:46:23.714033Z",
     "iopub.status.idle": "2023-11-15T18:46:24.195799Z",
     "shell.execute_reply": "2023-11-15T18:46:24.194714Z"
    },
    "jupyter": {
     "outputs_hidden": false
    },
    "papermill": {
     "duration": 0.493695,
     "end_time": "2023-11-15T18:46:24.198358",
     "exception": false,
     "start_time": "2023-11-15T18:46:23.704663",
     "status": "completed"
    },
    "tags": []
   },
   "outputs": [],
   "source": [
    "X = data.iloc[:,2:]\n",
    "y = data.loc[:,\"labels\"]"
   ]
  },
  {
   "cell_type": "code",
   "execution_count": 7,
   "id": "ba63135b",
   "metadata": {
    "ExecuteTime": {
     "end_time": "2023-11-11T19:50:06.246957700Z",
     "start_time": "2023-11-11T19:50:06.205636100Z"
    },
    "collapsed": false,
    "execution": {
     "iopub.execute_input": "2023-11-15T18:46:24.218011Z",
     "iopub.status.busy": "2023-11-15T18:46:24.217424Z",
     "iopub.status.idle": "2023-11-15T18:46:24.245021Z",
     "shell.execute_reply": "2023-11-15T18:46:24.244240Z"
    },
    "jupyter": {
     "outputs_hidden": false
    },
    "papermill": {
     "duration": 0.039336,
     "end_time": "2023-11-15T18:46:24.246819",
     "exception": false,
     "start_time": "2023-11-15T18:46:24.207483",
     "status": "completed"
    },
    "tags": []
   },
   "outputs": [
    {
     "data": {
      "text/html": [
       "<div>\n",
       "<style scoped>\n",
       "    .dataframe tbody tr th:only-of-type {\n",
       "        vertical-align: middle;\n",
       "    }\n",
       "\n",
       "    .dataframe tbody tr th {\n",
       "        vertical-align: top;\n",
       "    }\n",
       "\n",
       "    .dataframe thead th {\n",
       "        text-align: right;\n",
       "    }\n",
       "</style>\n",
       "<table border=\"1\" class=\"dataframe\">\n",
       "  <thead>\n",
       "    <tr style=\"text-align: right;\">\n",
       "      <th></th>\n",
       "      <th>1</th>\n",
       "      <th>2</th>\n",
       "      <th>3</th>\n",
       "      <th>4</th>\n",
       "      <th>5</th>\n",
       "      <th>6</th>\n",
       "      <th>7</th>\n",
       "      <th>8</th>\n",
       "      <th>9</th>\n",
       "      <th>10</th>\n",
       "      <th>...</th>\n",
       "      <th>775</th>\n",
       "      <th>776</th>\n",
       "      <th>777</th>\n",
       "      <th>778</th>\n",
       "      <th>779</th>\n",
       "      <th>780</th>\n",
       "      <th>781</th>\n",
       "      <th>782</th>\n",
       "      <th>783</th>\n",
       "      <th>784</th>\n",
       "    </tr>\n",
       "  </thead>\n",
       "  <tbody>\n",
       "    <tr>\n",
       "      <th>0</th>\n",
       "      <td>0.0</td>\n",
       "      <td>0.0</td>\n",
       "      <td>0.0</td>\n",
       "      <td>0.0</td>\n",
       "      <td>0.0</td>\n",
       "      <td>0.0</td>\n",
       "      <td>0.0</td>\n",
       "      <td>0.0</td>\n",
       "      <td>0.0</td>\n",
       "      <td>0.0</td>\n",
       "      <td>...</td>\n",
       "      <td>0.0</td>\n",
       "      <td>0.0</td>\n",
       "      <td>0.0</td>\n",
       "      <td>0.0</td>\n",
       "      <td>0.0</td>\n",
       "      <td>0.0</td>\n",
       "      <td>0.0</td>\n",
       "      <td>0.0</td>\n",
       "      <td>0.0</td>\n",
       "      <td>0.0</td>\n",
       "    </tr>\n",
       "    <tr>\n",
       "      <th>1</th>\n",
       "      <td>0.0</td>\n",
       "      <td>0.0</td>\n",
       "      <td>0.0</td>\n",
       "      <td>0.0</td>\n",
       "      <td>0.0</td>\n",
       "      <td>0.0</td>\n",
       "      <td>0.0</td>\n",
       "      <td>0.0</td>\n",
       "      <td>0.0</td>\n",
       "      <td>0.0</td>\n",
       "      <td>...</td>\n",
       "      <td>0.0</td>\n",
       "      <td>0.0</td>\n",
       "      <td>0.0</td>\n",
       "      <td>0.0</td>\n",
       "      <td>0.0</td>\n",
       "      <td>0.0</td>\n",
       "      <td>0.0</td>\n",
       "      <td>0.0</td>\n",
       "      <td>0.0</td>\n",
       "      <td>0.0</td>\n",
       "    </tr>\n",
       "    <tr>\n",
       "      <th>2</th>\n",
       "      <td>0.0</td>\n",
       "      <td>0.0</td>\n",
       "      <td>0.0</td>\n",
       "      <td>0.0</td>\n",
       "      <td>0.0</td>\n",
       "      <td>0.0</td>\n",
       "      <td>0.0</td>\n",
       "      <td>0.0</td>\n",
       "      <td>0.0</td>\n",
       "      <td>0.0</td>\n",
       "      <td>...</td>\n",
       "      <td>0.0</td>\n",
       "      <td>0.0</td>\n",
       "      <td>0.0</td>\n",
       "      <td>0.0</td>\n",
       "      <td>0.0</td>\n",
       "      <td>0.0</td>\n",
       "      <td>0.0</td>\n",
       "      <td>0.0</td>\n",
       "      <td>0.0</td>\n",
       "      <td>0.0</td>\n",
       "    </tr>\n",
       "    <tr>\n",
       "      <th>3</th>\n",
       "      <td>0.0</td>\n",
       "      <td>0.0</td>\n",
       "      <td>0.0</td>\n",
       "      <td>0.0</td>\n",
       "      <td>0.0</td>\n",
       "      <td>0.0</td>\n",
       "      <td>0.0</td>\n",
       "      <td>0.0</td>\n",
       "      <td>0.0</td>\n",
       "      <td>0.0</td>\n",
       "      <td>...</td>\n",
       "      <td>0.0</td>\n",
       "      <td>0.0</td>\n",
       "      <td>0.0</td>\n",
       "      <td>0.0</td>\n",
       "      <td>0.0</td>\n",
       "      <td>0.0</td>\n",
       "      <td>0.0</td>\n",
       "      <td>0.0</td>\n",
       "      <td>0.0</td>\n",
       "      <td>0.0</td>\n",
       "    </tr>\n",
       "    <tr>\n",
       "      <th>4</th>\n",
       "      <td>0.0</td>\n",
       "      <td>0.0</td>\n",
       "      <td>0.0</td>\n",
       "      <td>0.0</td>\n",
       "      <td>0.0</td>\n",
       "      <td>0.0</td>\n",
       "      <td>0.0</td>\n",
       "      <td>0.0</td>\n",
       "      <td>0.0</td>\n",
       "      <td>0.0</td>\n",
       "      <td>...</td>\n",
       "      <td>0.0</td>\n",
       "      <td>0.0</td>\n",
       "      <td>0.0</td>\n",
       "      <td>0.0</td>\n",
       "      <td>0.0</td>\n",
       "      <td>0.0</td>\n",
       "      <td>0.0</td>\n",
       "      <td>0.0</td>\n",
       "      <td>0.0</td>\n",
       "      <td>0.0</td>\n",
       "    </tr>\n",
       "  </tbody>\n",
       "</table>\n",
       "<p>5 rows × 784 columns</p>\n",
       "</div>"
      ],
      "text/plain": [
       "     1    2    3    4    5    6    7    8    9   10  ...  775  776  777  778  \\\n",
       "0  0.0  0.0  0.0  0.0  0.0  0.0  0.0  0.0  0.0  0.0  ...  0.0  0.0  0.0  0.0   \n",
       "1  0.0  0.0  0.0  0.0  0.0  0.0  0.0  0.0  0.0  0.0  ...  0.0  0.0  0.0  0.0   \n",
       "2  0.0  0.0  0.0  0.0  0.0  0.0  0.0  0.0  0.0  0.0  ...  0.0  0.0  0.0  0.0   \n",
       "3  0.0  0.0  0.0  0.0  0.0  0.0  0.0  0.0  0.0  0.0  ...  0.0  0.0  0.0  0.0   \n",
       "4  0.0  0.0  0.0  0.0  0.0  0.0  0.0  0.0  0.0  0.0  ...  0.0  0.0  0.0  0.0   \n",
       "\n",
       "   779  780  781  782  783  784  \n",
       "0  0.0  0.0  0.0  0.0  0.0  0.0  \n",
       "1  0.0  0.0  0.0  0.0  0.0  0.0  \n",
       "2  0.0  0.0  0.0  0.0  0.0  0.0  \n",
       "3  0.0  0.0  0.0  0.0  0.0  0.0  \n",
       "4  0.0  0.0  0.0  0.0  0.0  0.0  \n",
       "\n",
       "[5 rows x 784 columns]"
      ]
     },
     "execution_count": 7,
     "metadata": {},
     "output_type": "execute_result"
    }
   ],
   "source": [
    "X.head()"
   ]
  },
  {
   "cell_type": "code",
   "execution_count": 8,
   "id": "3f057b90",
   "metadata": {
    "ExecuteTime": {
     "end_time": "2023-11-11T19:50:06.247939100Z",
     "start_time": "2023-11-11T19:50:06.230873800Z"
    },
    "collapsed": false,
    "execution": {
     "iopub.execute_input": "2023-11-15T18:46:24.266174Z",
     "iopub.status.busy": "2023-11-15T18:46:24.265887Z",
     "iopub.status.idle": "2023-11-15T18:46:24.271825Z",
     "shell.execute_reply": "2023-11-15T18:46:24.271044Z"
    },
    "jupyter": {
     "outputs_hidden": false
    },
    "papermill": {
     "duration": 0.017775,
     "end_time": "2023-11-15T18:46:24.273811",
     "exception": false,
     "start_time": "2023-11-15T18:46:24.256036",
     "status": "completed"
    },
    "tags": []
   },
   "outputs": [
    {
     "data": {
      "text/plain": [
       "0    6\n",
       "1    D\n",
       "2    f\n",
       "3    /\n",
       "4    F\n",
       "Name: labels, dtype: object"
      ]
     },
     "execution_count": 8,
     "metadata": {},
     "output_type": "execute_result"
    }
   ],
   "source": [
    "y.head()"
   ]
  },
  {
   "cell_type": "code",
   "execution_count": 9,
   "id": "83377c00",
   "metadata": {
    "ExecuteTime": {
     "end_time": "2023-11-11T19:50:06.316211800Z",
     "start_time": "2023-11-11T19:50:06.241559Z"
    },
    "collapsed": false,
    "execution": {
     "iopub.execute_input": "2023-11-15T18:46:24.293619Z",
     "iopub.status.busy": "2023-11-15T18:46:24.293003Z",
     "iopub.status.idle": "2023-11-15T18:46:24.298259Z",
     "shell.execute_reply": "2023-11-15T18:46:24.297500Z"
    },
    "jupyter": {
     "outputs_hidden": false
    },
    "papermill": {
     "duration": 0.017139,
     "end_time": "2023-11-15T18:46:24.300186",
     "exception": false,
     "start_time": "2023-11-15T18:46:24.283047",
     "status": "completed"
    },
    "tags": []
   },
   "outputs": [
    {
     "data": {
      "text/plain": [
       "(274093, 784)"
      ]
     },
     "execution_count": 9,
     "metadata": {},
     "output_type": "execute_result"
    }
   ],
   "source": [
    "X.shape"
   ]
  },
  {
   "cell_type": "code",
   "execution_count": 10,
   "id": "c3e37b1e",
   "metadata": {
    "ExecuteTime": {
     "end_time": "2023-11-11T19:50:06.354214100Z",
     "start_time": "2023-11-11T19:50:06.248944400Z"
    },
    "collapsed": false,
    "execution": {
     "iopub.execute_input": "2023-11-15T18:46:24.319808Z",
     "iopub.status.busy": "2023-11-15T18:46:24.319556Z",
     "iopub.status.idle": "2023-11-15T18:46:24.324693Z",
     "shell.execute_reply": "2023-11-15T18:46:24.323877Z"
    },
    "jupyter": {
     "outputs_hidden": false
    },
    "papermill": {
     "duration": 0.017228,
     "end_time": "2023-11-15T18:46:24.326599",
     "exception": false,
     "start_time": "2023-11-15T18:46:24.309371",
     "status": "completed"
    },
    "tags": []
   },
   "outputs": [
    {
     "data": {
      "text/plain": [
       "28.0"
      ]
     },
     "execution_count": 10,
     "metadata": {},
     "output_type": "execute_result"
    }
   ],
   "source": [
    "X.shape[1] ** 0.5"
   ]
  },
  {
   "cell_type": "code",
   "execution_count": 11,
   "id": "16ab5826",
   "metadata": {
    "ExecuteTime": {
     "end_time": "2023-11-11T19:50:06.356245200Z",
     "start_time": "2023-11-11T19:50:06.257807300Z"
    },
    "collapsed": false,
    "execution": {
     "iopub.execute_input": "2023-11-15T18:46:24.347155Z",
     "iopub.status.busy": "2023-11-15T18:46:24.346869Z",
     "iopub.status.idle": "2023-11-15T18:46:24.350720Z",
     "shell.execute_reply": "2023-11-15T18:46:24.349922Z"
    },
    "jupyter": {
     "outputs_hidden": false
    },
    "papermill": {
     "duration": 0.01583,
     "end_time": "2023-11-15T18:46:24.352493",
     "exception": false,
     "start_time": "2023-11-15T18:46:24.336663",
     "status": "completed"
    },
    "tags": []
   },
   "outputs": [],
   "source": [
    "r_num = np.random.randint(0,len(data))"
   ]
  },
  {
   "cell_type": "code",
   "execution_count": 12,
   "id": "d02fc0b6",
   "metadata": {
    "ExecuteTime": {
     "end_time": "2023-11-11T19:50:06.356245200Z",
     "start_time": "2023-11-11T19:50:06.263243800Z"
    },
    "collapsed": false,
    "execution": {
     "iopub.execute_input": "2023-11-15T18:46:24.372553Z",
     "iopub.status.busy": "2023-11-15T18:46:24.372301Z",
     "iopub.status.idle": "2023-11-15T18:46:24.376431Z",
     "shell.execute_reply": "2023-11-15T18:46:24.375490Z"
    },
    "jupyter": {
     "outputs_hidden": false
    },
    "papermill": {
     "duration": 0.016213,
     "end_time": "2023-11-15T18:46:24.378224",
     "exception": false,
     "start_time": "2023-11-15T18:46:24.362011",
     "status": "completed"
    },
    "tags": []
   },
   "outputs": [],
   "source": [
    "pic0 = np.asarray(X.iloc[r_num]).reshape(28,28)"
   ]
  },
  {
   "cell_type": "code",
   "execution_count": 13,
   "id": "bc8fc50c",
   "metadata": {
    "ExecuteTime": {
     "end_time": "2023-11-11T19:50:06.819058300Z",
     "start_time": "2023-11-11T19:50:06.274692300Z"
    },
    "collapsed": false,
    "execution": {
     "iopub.execute_input": "2023-11-15T18:46:24.397988Z",
     "iopub.status.busy": "2023-11-15T18:46:24.397753Z",
     "iopub.status.idle": "2023-11-15T18:46:24.642678Z",
     "shell.execute_reply": "2023-11-15T18:46:24.641791Z"
    },
    "jupyter": {
     "outputs_hidden": false
    },
    "papermill": {
     "duration": 0.257148,
     "end_time": "2023-11-15T18:46:24.644656",
     "exception": false,
     "start_time": "2023-11-15T18:46:24.387508",
     "status": "completed"
    },
    "tags": []
   },
   "outputs": [
    {
     "name": "stdout",
     "output_type": "stream",
     "text": [
      "true label is : \\\n"
     ]
    },
    {
     "data": {
      "image/png": "[encoded data removed]",
      "text/plain": [
       "<Figure size 640x480 with 1 Axes>"
      ]
     },
     "metadata": {},
     "output_type": "display_data"
    }
   ],
   "source": [
    "import matplotlib.pyplot as plt\n",
    "plt.imshow(pic0,cmap=\"gray\")\n",
    "print(\"true label is :\",y[r_num])\n",
    "plt.show()"
   ]
  },
  {
   "cell_type": "code",
   "execution_count": 14,
   "id": "37288719",
   "metadata": {
    "ExecuteTime": {
     "end_time": "2023-11-11T19:50:06.910984600Z",
     "start_time": "2023-11-11T19:50:06.821057400Z"
    },
    "collapsed": false,
    "execution": {
     "iopub.execute_input": "2023-11-15T18:46:24.666025Z",
     "iopub.status.busy": "2023-11-15T18:46:24.665476Z",
     "iopub.status.idle": "2023-11-15T18:46:24.691196Z",
     "shell.execute_reply": "2023-11-15T18:46:24.690365Z"
    },
    "jupyter": {
     "outputs_hidden": false
    },
    "papermill": {
     "duration": 0.038178,
     "end_time": "2023-11-15T18:46:24.692994",
     "exception": false,
     "start_time": "2023-11-15T18:46:24.654816",
     "status": "completed"
    },
    "tags": []
   },
   "outputs": [
    {
     "data": {
      "text/plain": [
       "94"
      ]
     },
     "execution_count": 14,
     "metadata": {},
     "output_type": "execute_result"
    }
   ],
   "source": [
    "#number of classes\n",
    "y.nunique()"
   ]
  },
  {
   "cell_type": "code",
   "execution_count": 15,
   "id": "cabe31ef",
   "metadata": {
    "ExecuteTime": {
     "end_time": "2023-11-11T19:50:06.994494600Z",
     "start_time": "2023-11-11T19:50:06.847407600Z"
    },
    "collapsed": false,
    "execution": {
     "iopub.execute_input": "2023-11-15T18:46:24.714400Z",
     "iopub.status.busy": "2023-11-15T18:46:24.713771Z",
     "iopub.status.idle": "2023-11-15T18:46:24.825852Z",
     "shell.execute_reply": "2023-11-15T18:46:24.824985Z"
    },
    "jupyter": {
     "outputs_hidden": false
    },
    "papermill": {
     "duration": 0.125222,
     "end_time": "2023-11-15T18:46:24.828263",
     "exception": false,
     "start_time": "2023-11-15T18:46:24.703041",
     "status": "completed"
    },
    "tags": []
   },
   "outputs": [],
   "source": [
    "# one hot encoding on labels\n",
    "onh_enc= OneHotEncoder()\n",
    "y = onh_enc.fit_transform(y.values.reshape(-1,1)).toarray()"
   ]
  },
  {
   "cell_type": "code",
   "execution_count": 16,
   "id": "4586a4d1",
   "metadata": {
    "ExecuteTime": {
     "end_time": "2023-11-11T19:50:07.012498100Z",
     "start_time": "2023-11-11T19:50:06.947488100Z"
    },
    "collapsed": false,
    "execution": {
     "iopub.execute_input": "2023-11-15T18:46:24.849519Z",
     "iopub.status.busy": "2023-11-15T18:46:24.849244Z",
     "iopub.status.idle": "2023-11-15T18:46:24.855803Z",
     "shell.execute_reply": "2023-11-15T18:46:24.854746Z"
    },
    "jupyter": {
     "outputs_hidden": false
    },
    "papermill": {
     "duration": 0.019221,
     "end_time": "2023-11-15T18:46:24.857798",
     "exception": false,
     "start_time": "2023-11-15T18:46:24.838577",
     "status": "completed"
    },
    "tags": []
   },
   "outputs": [
    {
     "data": {
      "text/plain": [
       "array([[0., 0., 0., ..., 0., 0., 0.],\n",
       "       [0., 0., 0., ..., 0., 0., 0.],\n",
       "       [0., 0., 0., ..., 0., 0., 0.],\n",
       "       ...,\n",
       "       [0., 0., 0., ..., 0., 0., 0.],\n",
       "       [0., 0., 0., ..., 0., 0., 1.],\n",
       "       [0., 0., 0., ..., 0., 0., 0.]])"
      ]
     },
     "execution_count": 16,
     "metadata": {},
     "output_type": "execute_result"
    }
   ],
   "source": [
    "y"
   ]
  },
  {
   "cell_type": "code",
   "execution_count": 17,
   "id": "1e0356f7",
   "metadata": {
    "ExecuteTime": {
     "end_time": "2023-11-11T19:50:08.945136300Z",
     "start_time": "2023-11-11T19:50:06.956928500Z"
    },
    "collapsed": false,
    "execution": {
     "iopub.execute_input": "2023-11-15T18:46:24.879367Z",
     "iopub.status.busy": "2023-11-15T18:46:24.878594Z",
     "iopub.status.idle": "2023-11-15T18:46:26.674551Z",
     "shell.execute_reply": "2023-11-15T18:46:26.673546Z"
    },
    "jupyter": {
     "outputs_hidden": false
    },
    "papermill": {
     "duration": 1.809336,
     "end_time": "2023-11-15T18:46:26.677064",
     "exception": false,
     "start_time": "2023-11-15T18:46:24.867728",
     "status": "completed"
    },
    "tags": []
   },
   "outputs": [],
   "source": [
    "from sklearn.model_selection import train_test_split\n",
    "X_train, X_test, y_train, y_test = train_test_split(X, y, test_size=0.33, random_state=42)"
   ]
  },
  {
   "cell_type": "code",
   "execution_count": 18,
   "id": "ae1ffecb",
   "metadata": {
    "ExecuteTime": {
     "end_time": "2023-11-11T19:50:09.126429600Z",
     "start_time": "2023-11-11T19:50:08.947136300Z"
    },
    "collapsed": false,
    "execution": {
     "iopub.execute_input": "2023-11-15T18:46:26.699355Z",
     "iopub.status.busy": "2023-11-15T18:46:26.698717Z",
     "iopub.status.idle": "2023-11-15T18:46:26.796368Z",
     "shell.execute_reply": "2023-11-15T18:46:26.795515Z"
    },
    "jupyter": {
     "outputs_hidden": false
    },
    "papermill": {
     "duration": 0.111002,
     "end_time": "2023-11-15T18:46:26.798449",
     "exception": false,
     "start_time": "2023-11-15T18:46:26.687447",
     "status": "completed"
    },
    "tags": []
   },
   "outputs": [],
   "source": [
    "reg = tf.keras.regularizers.L2(0.0001)"
   ]
  },
  {
   "cell_type": "code",
   "execution_count": 19,
   "id": "1662fbbc",
   "metadata": {
    "ExecuteTime": {
     "end_time": "2023-11-11T19:50:09.250672300Z",
     "start_time": "2023-11-11T19:50:09.133431300Z"
    },
    "collapsed": false,
    "execution": {
     "iopub.execute_input": "2023-11-15T18:46:26.819974Z",
     "iopub.status.busy": "2023-11-15T18:46:26.819704Z",
     "iopub.status.idle": "2023-11-15T18:46:29.750713Z",
     "shell.execute_reply": "2023-11-15T18:46:29.749945Z"
    },
    "jupyter": {
     "outputs_hidden": false
    },
    "papermill": {
     "duration": 2.944425,
     "end_time": "2023-11-15T18:46:29.752983",
     "exception": false,
     "start_time": "2023-11-15T18:46:26.808558",
     "status": "completed"
    },
    "tags": []
   },
   "outputs": [],
   "source": [
    "model = tf.keras.models.Sequential()\n",
    "model.add(tf.keras.layers.Dense(units=784,activation=\"relu\",input_shape=(784,),name=\"input_layer\",kernel_regularizer=reg))\n",
    "model.add(tf.keras.layers.Dropout(0.22))\n",
    "model.add(tf.keras.layers.Dense(units=784,activation=\"relu\",name=\"hidden_layer0\",kernel_regularizer=reg))\n",
    "model.add(tf.keras.layers.Dropout(0.5))\n",
    "model.add(tf.keras.layers.Dense(units=784,activation=\"relu\",name=\"hidden_layer1\",kernel_regularizer=reg))\n",
    "model.add(tf.keras.layers.Dropout(0.22))\n",
    "model.add(tf.keras.layers.Dense(units=94,activation=\"softmax\",name=\"output_layer\",kernel_regularizer=reg))\n"
   ]
  },
  {
   "cell_type": "code",
   "execution_count": 20,
   "id": "e54690e2",
   "metadata": {
    "ExecuteTime": {
     "end_time": "2023-11-11T19:50:09.334554400Z",
     "start_time": "2023-11-11T19:50:09.252672400Z"
    },
    "collapsed": false,
    "execution": {
     "iopub.execute_input": "2023-11-15T18:46:29.775062Z",
     "iopub.status.busy": "2023-11-15T18:46:29.774395Z",
     "iopub.status.idle": "2023-11-15T18:46:29.798417Z",
     "shell.execute_reply": "2023-11-15T18:46:29.797388Z"
    },
    "jupyter": {
     "outputs_hidden": false
    },
    "papermill": {
     "duration": 0.042504,
     "end_time": "2023-11-15T18:46:29.805960",
     "exception": false,
     "start_time": "2023-11-15T18:46:29.763456",
     "status": "completed"
    },
    "tags": []
   },
   "outputs": [
    {
     "name": "stdout",
     "output_type": "stream",
     "text": [
      "Model: \"sequential\"\n",
      "_________________________________________________________________\n",
      " Layer (type)                Output Shape              Param #   \n",
      "=================================================================\n",
      " input_layer (Dense)         (None, 784)               615440    \n",
      "                                                                 \n",
      " dropout (Dropout)           (None, 784)               0         \n",
      "                                                                 \n",
      " hidden_layer0 (Dense)       (None, 784)               615440    \n",
      "                                                                 \n",
      " dropout_1 (Dropout)         (None, 784)               0         \n",
      "                                                                 \n",
      " hidden_layer1 (Dense)       (None, 784)               615440    \n",
      "                                                                 \n",
      " dropout_2 (Dropout)         (None, 784)               0         \n",
      "                                                                 \n",
      " output_layer (Dense)        (None, 94)                73790     \n",
      "                                                                 \n",
      "=================================================================\n",
      "Total params: 1920110 (7.32 MB)\n",
      "Trainable params: 1920110 (7.32 MB)\n",
      "Non-trainable params: 0 (0.00 Byte)\n",
      "_________________________________________________________________\n"
     ]
    }
   ],
   "source": [
    "model.summary()"
   ]
  },
  {
   "cell_type": "code",
   "execution_count": 21,
   "id": "33aaf8e1",
   "metadata": {
    "ExecuteTime": {
     "end_time": "2023-11-11T19:50:09.337554500Z",
     "start_time": "2023-11-11T19:50:09.282737200Z"
    },
    "collapsed": false,
    "execution": {
     "iopub.execute_input": "2023-11-15T18:46:29.831033Z",
     "iopub.status.busy": "2023-11-15T18:46:29.830767Z",
     "iopub.status.idle": "2023-11-15T18:46:29.848923Z",
     "shell.execute_reply": "2023-11-15T18:46:29.848267Z"
    },
    "jupyter": {
     "outputs_hidden": false
    },
    "papermill": {
     "duration": 0.032474,
     "end_time": "2023-11-15T18:46:29.850733",
     "exception": false,
     "start_time": "2023-11-15T18:46:29.818259",
     "status": "completed"
    },
    "tags": []
   },
   "outputs": [],
   "source": [
    "opt = tf.keras.optimizers.Adam(0.0001)\n",
    "los = tf.keras.losses.CategoricalCrossentropy()\n",
    "met = tf.keras.metrics.CategoricalAccuracy()\n",
    "model.compile(optimizer=opt,loss=los,metrics=met)"
   ]
  },
  {
   "cell_type": "code",
   "execution_count": 22,
   "id": "46195dda",
   "metadata": {
    "ExecuteTime": {
     "end_time": "2023-11-11T20:08:43.118936Z",
     "start_time": "2023-11-11T20:04:41.377508800Z"
    },
    "collapsed": false,
    "execution": {
     "iopub.execute_input": "2023-11-15T18:46:29.875703Z",
     "iopub.status.busy": "2023-11-15T18:46:29.875169Z",
     "iopub.status.idle": "2023-11-15T18:47:13.972297Z",
     "shell.execute_reply": "2023-11-15T18:47:13.971226Z"
    },
    "jupyter": {
     "outputs_hidden": false
    },
    "papermill": {
     "duration": 44.111995,
     "end_time": "2023-11-15T18:47:13.974865",
     "exception": false,
     "start_time": "2023-11-15T18:46:29.862870",
     "status": "completed"
    },
    "tags": []
   },
   "outputs": [
    {
     "name": "stdout",
     "output_type": "stream",
     "text": [
      "Epoch 1/15\n",
      "490/490 - 7s - loss: 14.0403 - categorical_accuracy: 0.2481 - val_loss: 1.5991 - val_categorical_accuracy: 0.6888 - 7s/epoch - 15ms/step\n",
      "Epoch 2/15\n",
      "490/490 - 2s - loss: 3.1139 - categorical_accuracy: 0.4738 - val_loss: 1.2752 - val_categorical_accuracy: 0.7559 - 2s/epoch - 4ms/step\n",
      "Epoch 3/15\n",
      "490/490 - 2s - loss: 2.2178 - categorical_accuracy: 0.5805 - val_loss: 1.1108 - val_categorical_accuracy: 0.7864 - 2s/epoch - 4ms/step\n",
      "Epoch 4/15\n",
      "490/490 - 2s - loss: 1.8073 - categorical_accuracy: 0.6409 - val_loss: 1.0083 - val_categorical_accuracy: 0.8058 - 2s/epoch - 4ms/step\n",
      "Epoch 5/15\n",
      "490/490 - 2s - loss: 1.5557 - categorical_accuracy: 0.6838 - val_loss: 0.9358 - val_categorical_accuracy: 0.8226 - 2s/epoch - 4ms/step\n",
      "Epoch 6/15\n",
      "490/490 - 2s - loss: 1.3840 - categorical_accuracy: 0.7134 - val_loss: 0.8819 - val_categorical_accuracy: 0.8311 - 2s/epoch - 4ms/step\n",
      "Epoch 7/15\n",
      "490/490 - 2s - loss: 1.2605 - categorical_accuracy: 0.7355 - val_loss: 0.8378 - val_categorical_accuracy: 0.8368 - 2s/epoch - 5ms/step\n",
      "Epoch 8/15\n",
      "490/490 - 2s - loss: 1.1620 - categorical_accuracy: 0.7527 - val_loss: 0.8011 - val_categorical_accuracy: 0.8443 - 2s/epoch - 4ms/step\n",
      "Epoch 9/15\n",
      "490/490 - 2s - loss: 1.0800 - categorical_accuracy: 0.7693 - val_loss: 0.7694 - val_categorical_accuracy: 0.8491 - 2s/epoch - 4ms/step\n",
      "Epoch 10/15\n",
      "490/490 - 2s - loss: 1.0114 - categorical_accuracy: 0.7819 - val_loss: 0.7407 - val_categorical_accuracy: 0.8569 - 2s/epoch - 4ms/step\n",
      "Epoch 11/15\n",
      "490/490 - 2s - loss: 0.9573 - categorical_accuracy: 0.7934 - val_loss: 0.7177 - val_categorical_accuracy: 0.8595 - 2s/epoch - 4ms/step\n",
      "Epoch 12/15\n",
      "490/490 - 2s - loss: 0.9062 - categorical_accuracy: 0.8037 - val_loss: 0.6953 - val_categorical_accuracy: 0.8642 - 2s/epoch - 4ms/step\n",
      "Epoch 13/15\n",
      "490/490 - 2s - loss: 0.8636 - categorical_accuracy: 0.8111 - val_loss: 0.6835 - val_categorical_accuracy: 0.8628 - 2s/epoch - 4ms/step\n",
      "Epoch 14/15\n",
      "490/490 - 2s - loss: 0.8280 - categorical_accuracy: 0.8186 - val_loss: 0.6621 - val_categorical_accuracy: 0.8698 - 2s/epoch - 4ms/step\n",
      "Epoch 15/15\n",
      "490/490 - 2s - loss: 0.7932 - categorical_accuracy: 0.8269 - val_loss: 0.6508 - val_categorical_accuracy: 0.8715 - 2s/epoch - 4ms/step\n"
     ]
    }
   ],
   "source": [
    "history= model.fit(X_train,y_train,epochs=15,batch_size=300,validation_split=0.2,verbose=2)"
   ]
  },
  {
   "cell_type": "code",
   "execution_count": 23,
   "id": "88c95872",
   "metadata": {
    "execution": {
     "iopub.execute_input": "2023-11-15T18:47:14.004765Z",
     "iopub.status.busy": "2023-11-15T18:47:14.004429Z",
     "iopub.status.idle": "2023-11-15T18:47:14.009615Z",
     "shell.execute_reply": "2023-11-15T18:47:14.008737Z"
    },
    "papermill": {
     "duration": 0.022229,
     "end_time": "2023-11-15T18:47:14.011649",
     "exception": false,
     "start_time": "2023-11-15T18:47:13.989420",
     "status": "completed"
    },
    "tags": []
   },
   "outputs": [],
   "source": [
    "import json\n",
    "\n",
    "\n",
    "with open('re100.json', 'w') as f:\n",
    "    json.dump(history.history,f)"
   ]
  },
  {
   "cell_type": "code",
   "execution_count": 24,
   "id": "57c80b14",
   "metadata": {
    "ExecuteTime": {
     "end_time": "2023-11-11T20:09:22.044509100Z",
     "start_time": "2023-11-11T20:09:21.584049200Z"
    },
    "collapsed": false,
    "execution": {
     "iopub.execute_input": "2023-11-15T18:47:14.086651Z",
     "iopub.status.busy": "2023-11-15T18:47:14.086040Z",
     "iopub.status.idle": "2023-11-15T18:47:14.338993Z",
     "shell.execute_reply": "2023-11-15T18:47:14.338121Z"
    },
    "jupyter": {
     "outputs_hidden": false
    },
    "papermill": {
     "duration": 0.27016,
     "end_time": "2023-11-15T18:47:14.341105",
     "exception": false,
     "start_time": "2023-11-15T18:47:14.070945",
     "status": "completed"
    },
    "tags": []
   },
   "outputs": [
    {
     "data": {
      "image/png": "[encoded data removed]",
      "text/plain": [
       "<Figure size 640x480 with 1 Axes>"
      ]
     },
     "metadata": {},
     "output_type": "display_data"
    }
   ],
   "source": [
    "plt.plot(history.history['loss'],label = \"loss\")\n",
    "plt.plot(history.history['val_loss'],label = \"val_loss\")\n",
    "plt.legend()\n",
    "plt.show()"
   ]
  }
 ],
 "metadata": {
  "kaggle": {
   "accelerator": "gpu",
   "dataSources": [
    {
     "datasetId": 1564532,
     "sourceId": 2830968,
     "sourceType": "datasetVersion"
    }
   ],
   "dockerImageVersionId": 30579,
   "isGpuEnabled": true,
   "isInternetEnabled": true,
   "language": "python",
   "sourceType": "notebook"
  },
  "kernelspec": {
   "display_name": "Python 3",
   "language": "python",
   "name": "python3"
  },
  "language_info": {
   "codemirror_mode": {
    "name": "ipython",
    "version": 3
   },
   "file_extension": ".py",
   "mimetype": "text/x-python",
   "name": "python",
   "nbconvert_exporter": "python",
   "pygments_lexer": "ipython3",
   "version": "3.10.12"
  },
  "papermill": {
   "default_parameters": {},
   "duration": 105.528785,
   "end_time": "2023-11-15T18:47:17.493276",
   "environment_variables": {},
   "exception": null,
   "input_path": "__notebook__.ipynb",
   "output_path": "__notebook__.ipynb",
   "parameters": {},
   "start_time": "2023-11-15T18:45:31.964491",
   "version": "2.4.0"
  }
 },
 "nbformat": 4,
 "nbformat_minor": 5
}
